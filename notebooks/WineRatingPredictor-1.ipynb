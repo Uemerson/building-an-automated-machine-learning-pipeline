{
 "cells": [
  {
   "cell_type": "markdown",
   "metadata": {},
   "source": [
    "# Imports"
   ]
  },
  {
   "cell_type": "code",
   "execution_count": 1,
   "metadata": {},
   "outputs": [],
   "source": [
    "# data manipulation libraries\n",
    "import pandas as pd\n",
    "import numpy as np\n",
    "pd.set_option('display.max_columns', 60)\n",
    "\n",
    "# data visualization libraries\n",
    "import matplotlib.pyplot as plt\n",
    "import seaborn as sns\n",
    "from IPython.core.pylabtools import figsize\n",
    "\n",
    "%matplotlib inline\n",
    "# to display visuals in the notebook\n",
    "\n",
    "%config InlineBackend.figure_format='retina'\n",
    "#to enable high resolution plots\n",
    "\n",
    "# feature extraction and preprocessing\n",
    "import re\n",
    "import datetime\n",
    "\n",
    "# feature transformation and preprocessing\n",
    "from category_encoders.ordinal import OrdinalEncoder\n",
    "from sklearn.model_selection import train_test_split\n",
    "from sklearn.impute import SimpleImputer"
   ]
  },
  {
   "cell_type": "markdown",
   "metadata": {},
   "source": [
    "# Understand & Clean & Format Data"
   ]
  },
  {
   "cell_type": "code",
   "execution_count": 3,
   "metadata": {},
   "outputs": [
    {
     "data": {
      "text/html": [
       "<div>\n",
       "<style scoped>\n",
       "    .dataframe tbody tr th:only-of-type {\n",
       "        vertical-align: middle;\n",
       "    }\n",
       "\n",
       "    .dataframe tbody tr th {\n",
       "        vertical-align: top;\n",
       "    }\n",
       "\n",
       "    .dataframe thead th {\n",
       "        text-align: right;\n",
       "    }\n",
       "</style>\n",
       "<table border=\"1\" class=\"dataframe\">\n",
       "  <thead>\n",
       "    <tr style=\"text-align: right;\">\n",
       "      <th></th>\n",
       "      <th>country</th>\n",
       "      <th>description</th>\n",
       "      <th>designation</th>\n",
       "      <th>points</th>\n",
       "      <th>price</th>\n",
       "      <th>province</th>\n",
       "      <th>region_1</th>\n",
       "      <th>region_2</th>\n",
       "      <th>taster_name</th>\n",
       "      <th>taster_twitter_handle</th>\n",
       "      <th>title</th>\n",
       "      <th>variety</th>\n",
       "      <th>winery</th>\n",
       "    </tr>\n",
       "  </thead>\n",
       "  <tbody>\n",
       "    <tr>\n",
       "      <th>8174</th>\n",
       "      <td>US</td>\n",
       "      <td>A beautifully exuberant mountain Zin. There's ...</td>\n",
       "      <td>Rezerve Paul's Vineyard</td>\n",
       "      <td>88</td>\n",
       "      <td>24.0</td>\n",
       "      <td>California</td>\n",
       "      <td>Amador County</td>\n",
       "      <td>Sierra Foothills</td>\n",
       "      <td>NaN</td>\n",
       "      <td>NaN</td>\n",
       "      <td>Shenandoah 2006 Rezerve Paul's Vineyard Zinfan...</td>\n",
       "      <td>Zinfandel</td>\n",
       "      <td>Shenandoah</td>\n",
       "    </tr>\n",
       "    <tr>\n",
       "      <th>6055</th>\n",
       "      <td>US</td>\n",
       "      <td>Quite a nice Chardonnay at a great price. It's...</td>\n",
       "      <td>Sonoma Reserve</td>\n",
       "      <td>89</td>\n",
       "      <td>15.0</td>\n",
       "      <td>California</td>\n",
       "      <td>Sonoma County</td>\n",
       "      <td>Sonoma</td>\n",
       "      <td>NaN</td>\n",
       "      <td>NaN</td>\n",
       "      <td>Blackstone 2008 Sonoma Reserve Chardonnay (Son...</td>\n",
       "      <td>Chardonnay</td>\n",
       "      <td>Blackstone</td>\n",
       "    </tr>\n",
       "    <tr>\n",
       "      <th>8606</th>\n",
       "      <td>Italy</td>\n",
       "      <td>Valcolomba is a pure expression of Vermentino ...</td>\n",
       "      <td>Valcolomba</td>\n",
       "      <td>84</td>\n",
       "      <td>NaN</td>\n",
       "      <td>Tuscany</td>\n",
       "      <td>Maremma</td>\n",
       "      <td>NaN</td>\n",
       "      <td>NaN</td>\n",
       "      <td>NaN</td>\n",
       "      <td>Carpineto 2010 Valcolomba Vermentino (Maremma)</td>\n",
       "      <td>Vermentino</td>\n",
       "      <td>Carpineto</td>\n",
       "    </tr>\n",
       "    <tr>\n",
       "      <th>5326</th>\n",
       "      <td>France</td>\n",
       "      <td>The Chasselas, once the dominant grape of Poui...</td>\n",
       "      <td>Les Marnes</td>\n",
       "      <td>88</td>\n",
       "      <td>19.0</td>\n",
       "      <td>Loire Valley</td>\n",
       "      <td>Pouilly-sur-Loire</td>\n",
       "      <td>NaN</td>\n",
       "      <td>Roger Voss</td>\n",
       "      <td>@vossroger</td>\n",
       "      <td>Fournier Père et Fils 2014 Les Marnes  (Pouill...</td>\n",
       "      <td>Chasselas</td>\n",
       "      <td>Fournier Père et Fils</td>\n",
       "    </tr>\n",
       "    <tr>\n",
       "      <th>8796</th>\n",
       "      <td>US</td>\n",
       "      <td>Take a walk on the wild side with this Rhône-s...</td>\n",
       "      <td>Tête-à-Tête</td>\n",
       "      <td>87</td>\n",
       "      <td>20.0</td>\n",
       "      <td>California</td>\n",
       "      <td>Sierra Foothills</td>\n",
       "      <td>Sierra Foothills</td>\n",
       "      <td>Jim Gordon</td>\n",
       "      <td>@gordone_cellars</td>\n",
       "      <td>Terre Rouge 2012 Tête-à-Tête Red (Sierra Footh...</td>\n",
       "      <td>Red Blend</td>\n",
       "      <td>Terre Rouge</td>\n",
       "    </tr>\n",
       "  </tbody>\n",
       "</table>\n",
       "</div>"
      ],
      "text/plain": [
       "     country                                        description  \\\n",
       "8174      US  A beautifully exuberant mountain Zin. There's ...   \n",
       "6055      US  Quite a nice Chardonnay at a great price. It's...   \n",
       "8606   Italy  Valcolomba is a pure expression of Vermentino ...   \n",
       "5326  France  The Chasselas, once the dominant grape of Poui...   \n",
       "8796      US  Take a walk on the wild side with this Rhône-s...   \n",
       "\n",
       "                  designation  points  price      province           region_1  \\\n",
       "8174  Rezerve Paul's Vineyard      88   24.0    California      Amador County   \n",
       "6055           Sonoma Reserve      89   15.0    California      Sonoma County   \n",
       "8606               Valcolomba      84    NaN       Tuscany            Maremma   \n",
       "5326               Les Marnes      88   19.0  Loire Valley  Pouilly-sur-Loire   \n",
       "8796              Tête-à-Tête      87   20.0    California   Sierra Foothills   \n",
       "\n",
       "              region_2 taster_name taster_twitter_handle  \\\n",
       "8174  Sierra Foothills         NaN                   NaN   \n",
       "6055            Sonoma         NaN                   NaN   \n",
       "8606               NaN         NaN                   NaN   \n",
       "5326               NaN  Roger Voss            @vossroger   \n",
       "8796  Sierra Foothills  Jim Gordon      @gordone_cellars   \n",
       "\n",
       "                                                  title     variety  \\\n",
       "8174  Shenandoah 2006 Rezerve Paul's Vineyard Zinfan...   Zinfandel   \n",
       "6055  Blackstone 2008 Sonoma Reserve Chardonnay (Son...  Chardonnay   \n",
       "8606     Carpineto 2010 Valcolomba Vermentino (Maremma)  Vermentino   \n",
       "5326  Fournier Père et Fils 2014 Les Marnes  (Pouill...   Chasselas   \n",
       "8796  Terre Rouge 2012 Tête-à-Tête Red (Sierra Footh...   Red Blend   \n",
       "\n",
       "                     winery  \n",
       "8174             Shenandoah  \n",
       "6055             Blackstone  \n",
       "8606              Carpineto  \n",
       "5326  Fournier Père et Fils  \n",
       "8796            Terre Rouge  "
      ]
     },
     "execution_count": 3,
     "metadata": {},
     "output_type": "execute_result"
    }
   ],
   "source": [
    "train = pd.read_csv(\"../data/train/train.csv\") \n",
    "test = pd.read_csv(\"../data/test/test.csv\")\n",
    "train.sample(5)"
   ]
  },
  {
   "cell_type": "code",
   "execution_count": 6,
   "metadata": {},
   "outputs": [
    {
     "name": "stdout",
     "output_type": "stream",
     "text": [
      "There are 9000 rows and 13 columns in the train dataset.\n"
     ]
    }
   ],
   "source": [
    "print(\"There are {} rows and {} columns in the train dataset.\"\n",
    "      .format(train.shape[0], train.shape[1]))"
   ]
  },
  {
   "cell_type": "code",
   "execution_count": 7,
   "metadata": {},
   "outputs": [
    {
     "name": "stdout",
     "output_type": "stream",
     "text": [
      "There are 1000 rows and 13 columns in the test dataset.\n"
     ]
    }
   ],
   "source": [
    "print(\"There are {} rows and {} columns in the test dataset.\"\n",
    "      .format(test.shape[0], test.shape[1]))"
   ]
  },
  {
   "cell_type": "markdown",
   "metadata": {},
   "source": [
    "# Descriptive statistics & information about datasets"
   ]
  },
  {
   "cell_type": "code",
   "execution_count": 4,
   "metadata": {},
   "outputs": [
    {
     "name": "stdout",
     "output_type": "stream",
     "text": [
      "<class 'pandas.core.frame.DataFrame'>\n",
      "RangeIndex: 9000 entries, 0 to 8999\n",
      "Data columns (total 13 columns):\n",
      " #   Column                 Non-Null Count  Dtype  \n",
      "---  ------                 --------------  -----  \n",
      " 0   country                8994 non-null   object \n",
      " 1   description            9000 non-null   object \n",
      " 2   designation            6455 non-null   object \n",
      " 3   points                 9000 non-null   int64  \n",
      " 4   price                  8403 non-null   float64\n",
      " 5   province               8994 non-null   object \n",
      " 6   region_1               7505 non-null   object \n",
      " 7   region_2               3469 non-null   object \n",
      " 8   taster_name            7223 non-null   object \n",
      " 9   taster_twitter_handle  6888 non-null   object \n",
      " 10  title                  9000 non-null   object \n",
      " 11  variety                9000 non-null   object \n",
      " 12  winery                 9000 non-null   object \n",
      "dtypes: float64(1), int64(1), object(11)\n",
      "memory usage: 914.2+ KB\n"
     ]
    }
   ],
   "source": [
    "train.info()"
   ]
  },
  {
   "cell_type": "code",
   "execution_count": 8,
   "metadata": {},
   "outputs": [
    {
     "data": {
      "text/html": [
       "<div>\n",
       "<style scoped>\n",
       "    .dataframe tbody tr th:only-of-type {\n",
       "        vertical-align: middle;\n",
       "    }\n",
       "\n",
       "    .dataframe tbody tr th {\n",
       "        vertical-align: top;\n",
       "    }\n",
       "\n",
       "    .dataframe thead th {\n",
       "        text-align: right;\n",
       "    }\n",
       "</style>\n",
       "<table border=\"1\" class=\"dataframe\">\n",
       "  <thead>\n",
       "    <tr style=\"text-align: right;\">\n",
       "      <th></th>\n",
       "      <th>points</th>\n",
       "      <th>price</th>\n",
       "    </tr>\n",
       "  </thead>\n",
       "  <tbody>\n",
       "    <tr>\n",
       "      <th>count</th>\n",
       "      <td>9000.000000</td>\n",
       "      <td>8403.000000</td>\n",
       "    </tr>\n",
       "    <tr>\n",
       "      <th>mean</th>\n",
       "      <td>88.455222</td>\n",
       "      <td>35.532191</td>\n",
       "    </tr>\n",
       "    <tr>\n",
       "      <th>std</th>\n",
       "      <td>3.025945</td>\n",
       "      <td>40.750683</td>\n",
       "    </tr>\n",
       "    <tr>\n",
       "      <th>min</th>\n",
       "      <td>80.000000</td>\n",
       "      <td>5.000000</td>\n",
       "    </tr>\n",
       "    <tr>\n",
       "      <th>25%</th>\n",
       "      <td>86.000000</td>\n",
       "      <td>17.000000</td>\n",
       "    </tr>\n",
       "    <tr>\n",
       "      <th>50%</th>\n",
       "      <td>88.000000</td>\n",
       "      <td>25.000000</td>\n",
       "    </tr>\n",
       "    <tr>\n",
       "      <th>75%</th>\n",
       "      <td>91.000000</td>\n",
       "      <td>42.000000</td>\n",
       "    </tr>\n",
       "    <tr>\n",
       "      <th>max</th>\n",
       "      <td>100.000000</td>\n",
       "      <td>1300.000000</td>\n",
       "    </tr>\n",
       "  </tbody>\n",
       "</table>\n",
       "</div>"
      ],
      "text/plain": [
       "            points        price\n",
       "count  9000.000000  8403.000000\n",
       "mean     88.455222    35.532191\n",
       "std       3.025945    40.750683\n",
       "min      80.000000     5.000000\n",
       "25%      86.000000    17.000000\n",
       "50%      88.000000    25.000000\n",
       "75%      91.000000    42.000000\n",
       "max     100.000000  1300.000000"
      ]
     },
     "execution_count": 8,
     "metadata": {},
     "output_type": "execute_result"
    }
   ],
   "source": [
    "train.describe()"
   ]
  },
  {
   "cell_type": "markdown",
   "metadata": {},
   "source": [
    "Majority of the features are categorical and we have some missing data in the both datasets. Machine learning models can only work with numerical and non-empty values. Thus we are going to develop strategies in Feature Engineering to impute the missing data and transform categorical values into the numeric values."
   ]
  },
  {
   "cell_type": "code",
   "execution_count": 5,
   "metadata": {},
   "outputs": [
    {
     "name": "stdout",
     "output_type": "stream",
     "text": [
      "<class 'pandas.core.frame.DataFrame'>\n",
      "RangeIndex: 1000 entries, 0 to 999\n",
      "Data columns (total 13 columns):\n",
      " #   Column                 Non-Null Count  Dtype  \n",
      "---  ------                 --------------  -----  \n",
      " 0   country                1000 non-null   object \n",
      " 1   description            1000 non-null   object \n",
      " 2   designation            716 non-null    object \n",
      " 3   points                 1000 non-null   int64  \n",
      " 4   price                  920 non-null    float64\n",
      " 5   province               1000 non-null   object \n",
      " 6   region_1               831 non-null    object \n",
      " 7   region_2               384 non-null    object \n",
      " 8   taster_name            792 non-null    object \n",
      " 9   taster_twitter_handle  756 non-null    object \n",
      " 10  title                  1000 non-null   object \n",
      " 11  variety                1000 non-null   object \n",
      " 12  winery                 1000 non-null   object \n",
      "dtypes: float64(1), int64(1), object(11)\n",
      "memory usage: 101.7+ KB\n"
     ]
    }
   ],
   "source": [
    "test.info()"
   ]
  },
  {
   "cell_type": "code",
   "execution_count": null,
   "metadata": {},
   "outputs": [],
   "source": []
  }
 ],
 "metadata": {
  "kernelspec": {
   "display_name": ".venv",
   "language": "python",
   "name": "python3"
  },
  "language_info": {
   "codemirror_mode": {
    "name": "ipython",
    "version": 3
   },
   "file_extension": ".py",
   "mimetype": "text/x-python",
   "name": "python",
   "nbconvert_exporter": "python",
   "pygments_lexer": "ipython3",
   "version": "3.12.2"
  }
 },
 "nbformat": 4,
 "nbformat_minor": 2
}
