{
 "cells": [
  {
   "cell_type": "markdown",
   "metadata": {},
   "source": [
    "# Imports"
   ]
  },
  {
   "cell_type": "code",
   "execution_count": 1,
   "metadata": {},
   "outputs": [],
   "source": [
    "# data manipulation libraries\n",
    "import pandas as pd\n",
    "import numpy as np\n",
    "pd.set_option('display.max_columns', 60)\n",
    "\n",
    "# data visualization libraries\n",
    "import matplotlib.pyplot as plt\n",
    "import seaborn as sns\n",
    "from IPython.core.pylabtools import figsize\n",
    "\n",
    "%matplotlib inline\n",
    "# to display visuals in the notebook\n",
    "\n",
    "%config InlineBackend.figure_format='retina'\n",
    "#to enable high resolution plots\n",
    "\n",
    "# feature extraction and preprocessing\n",
    "import re\n",
    "import datetime\n",
    "\n",
    "# feature transformation and preprocessing\n",
    "from category_encoders.ordinal import OrdinalEncoder\n",
    "from sklearn.model_selection import train_test_split\n",
    "from sklearn.impute import SimpleImputer"
   ]
  },
  {
   "cell_type": "markdown",
   "metadata": {},
   "source": [
    "# Auxiliary Functions"
   ]
  },
  {
   "cell_type": "markdown",
   "metadata": {},
   "source": [
    "The function below will enable us to observe the missing values as a percentage per feature."
   ]
  },
  {
   "cell_type": "code",
   "execution_count": 2,
   "metadata": {},
   "outputs": [],
   "source": [
    "def missing_values_table(df):\n",
    "    # Total missing values\n",
    "    mis_val = df.isnull().sum()\n",
    "\n",
    "    # Percentage of missing values\n",
    "    mis_val_percent = 100 * df.isnull().sum() / len(df)\n",
    "\n",
    "    # Make a table with the results\n",
    "    mis_val_table = pd.concat([mis_val, mis_val_percent],\n",
    "                              axis=1)\n",
    "\n",
    "    # Rename the columns\n",
    "    mis_val_table_ren_columns = mis_val_table.rename(\n",
    "        columns={0: 'Missing Values', 1: '% of Total Values'})\n",
    "\n",
    "    # Sort the table by percentage of missing descending\n",
    "    mis_val_table_ren_columns = (mis_val_table_ren_columns[\n",
    "        mis_val_table_ren_columns.iloc[:, 1] != 0].sort_values(\n",
    "        '% of Total Values', ascending=False).round(1))\n",
    "\n",
    "    # Print some summary information\n",
    "    print(\"Your selected dataframe has \" + str(df.shape[1]) + \" columns.\\n\"\n",
    "          \"There are \" + str(mis_val_table_ren_columns.shape[0]) +\n",
    "          \" columns that have missing values.\")\n",
    "\n",
    "    # Return the dataframe with missing information\n",
    "    return mis_val_table_ren_columns"
   ]
  },
  {
   "cell_type": "markdown",
   "metadata": {},
   "source": [
    "The function below will enable us to plot a histogram"
   ]
  },
  {
   "cell_type": "code",
   "execution_count": 3,
   "metadata": {},
   "outputs": [],
   "source": [
    "def plot_histogram(df, column, b=\"auto\"):\n",
    "    # funtion to print histogram\n",
    "    # with mean and median\n",
    "    # using distplot\n",
    "\n",
    "    # set the histogram, mean and median\n",
    "    # g = sns.distplot(df[column],\n",
    "    #                  kde=False,\n",
    "    #                  bins=b)\n",
    "    g = sns.histplot(df[column], kde=False, bins=b)\n",
    "    plt.axvline(x=df[column].mean(),\n",
    "                linewidth=3,\n",
    "                color='g',\n",
    "                label=\"mean\",\n",
    "                alpha=0.5)\n",
    "    plt.axvline(x=df[column].median(),\n",
    "                linewidth=3,\n",
    "                color='y',\n",
    "                label=\"median\",\n",
    "                alpha=0.5)\n",
    "\n",
    "    # set title, legends and labels\n",
    "    plt.xlabel(\"{}\".format(column),\n",
    "               size=14)\n",
    "    plt.ylabel(\"Count\",\n",
    "               size=14)\n",
    "    plt.title(\"Distribution of {}\".format(column),\n",
    "              size=16)\n",
    "    plt.legend([\"mean\", \"median\"])\n",
    "\n",
    "    return g\n"
   ]
  },
  {
   "cell_type": "markdown",
   "metadata": {},
   "source": [
    "# Understand & Clean & Format Data"
   ]
  },
  {
   "cell_type": "code",
   "execution_count": 4,
   "metadata": {},
   "outputs": [
    {
     "data": {
      "text/html": [
       "<div>\n",
       "<style scoped>\n",
       "    .dataframe tbody tr th:only-of-type {\n",
       "        vertical-align: middle;\n",
       "    }\n",
       "\n",
       "    .dataframe tbody tr th {\n",
       "        vertical-align: top;\n",
       "    }\n",
       "\n",
       "    .dataframe thead th {\n",
       "        text-align: right;\n",
       "    }\n",
       "</style>\n",
       "<table border=\"1\" class=\"dataframe\">\n",
       "  <thead>\n",
       "    <tr style=\"text-align: right;\">\n",
       "      <th></th>\n",
       "      <th>country</th>\n",
       "      <th>description</th>\n",
       "      <th>designation</th>\n",
       "      <th>points</th>\n",
       "      <th>price</th>\n",
       "      <th>province</th>\n",
       "      <th>region_1</th>\n",
       "      <th>region_2</th>\n",
       "      <th>taster_name</th>\n",
       "      <th>taster_twitter_handle</th>\n",
       "      <th>title</th>\n",
       "      <th>variety</th>\n",
       "      <th>winery</th>\n",
       "    </tr>\n",
       "  </thead>\n",
       "  <tbody>\n",
       "    <tr>\n",
       "      <th>417</th>\n",
       "      <td>France</td>\n",
       "      <td>94–96. Barrel sample. Intense black currant fr...</td>\n",
       "      <td>Barrel Sample</td>\n",
       "      <td>95</td>\n",
       "      <td>NaN</td>\n",
       "      <td>Bordeaux</td>\n",
       "      <td>Pauillac</td>\n",
       "      <td>NaN</td>\n",
       "      <td>Roger Voss</td>\n",
       "      <td>@vossroger</td>\n",
       "      <td>Château Pichon Longueville Comtesse de Lalande...</td>\n",
       "      <td>Bordeaux-style Red Blend</td>\n",
       "      <td>Château Pichon Longueville Comtesse de Lalande</td>\n",
       "    </tr>\n",
       "    <tr>\n",
       "      <th>3448</th>\n",
       "      <td>Argentina</td>\n",
       "      <td>Tart, lean red fruit aromas don't give much re...</td>\n",
       "      <td>NaN</td>\n",
       "      <td>82</td>\n",
       "      <td>9.0</td>\n",
       "      <td>Mendoza Province</td>\n",
       "      <td>Mendoza</td>\n",
       "      <td>NaN</td>\n",
       "      <td>Michael Schachner</td>\n",
       "      <td>@wineschach</td>\n",
       "      <td>Casa de Campo 2008 Malbec (Mendoza)</td>\n",
       "      <td>Malbec</td>\n",
       "      <td>Casa de Campo</td>\n",
       "    </tr>\n",
       "    <tr>\n",
       "      <th>203</th>\n",
       "      <td>US</td>\n",
       "      <td>The volatiles are quite amped on this wine. It...</td>\n",
       "      <td>NaN</td>\n",
       "      <td>84</td>\n",
       "      <td>34.0</td>\n",
       "      <td>Washington</td>\n",
       "      <td>Horse Heaven Hills</td>\n",
       "      <td>Columbia Valley</td>\n",
       "      <td>Sean P. Sullivan</td>\n",
       "      <td>@wawinereport</td>\n",
       "      <td>Martinez &amp; Martinez 2013 Cabernet Sauvignon (H...</td>\n",
       "      <td>Cabernet Sauvignon</td>\n",
       "      <td>Martinez &amp; Martinez</td>\n",
       "    </tr>\n",
       "    <tr>\n",
       "      <th>4529</th>\n",
       "      <td>France</td>\n",
       "      <td>This estate has produced an impressive wine fo...</td>\n",
       "      <td>NaN</td>\n",
       "      <td>93</td>\n",
       "      <td>NaN</td>\n",
       "      <td>Bordeaux</td>\n",
       "      <td>Saint-Julien</td>\n",
       "      <td>NaN</td>\n",
       "      <td>Roger Voss</td>\n",
       "      <td>@vossroger</td>\n",
       "      <td>Château Branaire-Ducru 2013  Saint-Julien</td>\n",
       "      <td>Bordeaux-style Red Blend</td>\n",
       "      <td>Château Branaire-Ducru</td>\n",
       "    </tr>\n",
       "    <tr>\n",
       "      <th>1644</th>\n",
       "      <td>Argentina</td>\n",
       "      <td>Standard all the way, but isn't that what we w...</td>\n",
       "      <td>NaN</td>\n",
       "      <td>86</td>\n",
       "      <td>9.0</td>\n",
       "      <td>Mendoza Province</td>\n",
       "      <td>Mendoza</td>\n",
       "      <td>NaN</td>\n",
       "      <td>Michael Schachner</td>\n",
       "      <td>@wineschach</td>\n",
       "      <td>Cruz Alta 2009 Malbec (Mendoza)</td>\n",
       "      <td>Malbec</td>\n",
       "      <td>Cruz Alta</td>\n",
       "    </tr>\n",
       "  </tbody>\n",
       "</table>\n",
       "</div>"
      ],
      "text/plain": [
       "        country                                        description  \\\n",
       "417      France  94–96. Barrel sample. Intense black currant fr...   \n",
       "3448  Argentina  Tart, lean red fruit aromas don't give much re...   \n",
       "203          US  The volatiles are quite amped on this wine. It...   \n",
       "4529     France  This estate has produced an impressive wine fo...   \n",
       "1644  Argentina  Standard all the way, but isn't that what we w...   \n",
       "\n",
       "        designation  points  price          province            region_1  \\\n",
       "417   Barrel Sample      95    NaN          Bordeaux            Pauillac   \n",
       "3448            NaN      82    9.0  Mendoza Province             Mendoza   \n",
       "203             NaN      84   34.0        Washington  Horse Heaven Hills   \n",
       "4529            NaN      93    NaN          Bordeaux        Saint-Julien   \n",
       "1644            NaN      86    9.0  Mendoza Province             Mendoza   \n",
       "\n",
       "             region_2        taster_name taster_twitter_handle  \\\n",
       "417               NaN         Roger Voss            @vossroger   \n",
       "3448              NaN  Michael Schachner           @wineschach   \n",
       "203   Columbia Valley   Sean P. Sullivan         @wawinereport   \n",
       "4529              NaN         Roger Voss            @vossroger   \n",
       "1644              NaN  Michael Schachner           @wineschach   \n",
       "\n",
       "                                                  title  \\\n",
       "417   Château Pichon Longueville Comtesse de Lalande...   \n",
       "3448                Casa de Campo 2008 Malbec (Mendoza)   \n",
       "203   Martinez & Martinez 2013 Cabernet Sauvignon (H...   \n",
       "4529          Château Branaire-Ducru 2013  Saint-Julien   \n",
       "1644                    Cruz Alta 2009 Malbec (Mendoza)   \n",
       "\n",
       "                       variety                                          winery  \n",
       "417   Bordeaux-style Red Blend  Château Pichon Longueville Comtesse de Lalande  \n",
       "3448                    Malbec                                   Casa de Campo  \n",
       "203         Cabernet Sauvignon                             Martinez & Martinez  \n",
       "4529  Bordeaux-style Red Blend                          Château Branaire-Ducru  \n",
       "1644                    Malbec                                       Cruz Alta  "
      ]
     },
     "execution_count": 4,
     "metadata": {},
     "output_type": "execute_result"
    }
   ],
   "source": [
    "train = pd.read_csv(\"../data/train/train.csv\") \n",
    "test = pd.read_csv(\"../data/test/test.csv\")\n",
    "train.sample(5)"
   ]
  },
  {
   "cell_type": "code",
   "execution_count": 5,
   "metadata": {},
   "outputs": [
    {
     "name": "stdout",
     "output_type": "stream",
     "text": [
      "There are 9000 rows and 13 columns in the train dataset.\n"
     ]
    }
   ],
   "source": [
    "print(\"There are {} rows and {} columns in the train dataset.\"\n",
    "      .format(train.shape[0], train.shape[1]))"
   ]
  },
  {
   "cell_type": "code",
   "execution_count": 6,
   "metadata": {},
   "outputs": [
    {
     "name": "stdout",
     "output_type": "stream",
     "text": [
      "There are 1000 rows and 13 columns in the test dataset.\n"
     ]
    }
   ],
   "source": [
    "print(\"There are {} rows and {} columns in the test dataset.\"\n",
    "      .format(test.shape[0], test.shape[1]))"
   ]
  },
  {
   "cell_type": "markdown",
   "metadata": {},
   "source": [
    "## Descriptive statistics & information about datasets"
   ]
  },
  {
   "cell_type": "code",
   "execution_count": 7,
   "metadata": {},
   "outputs": [
    {
     "name": "stdout",
     "output_type": "stream",
     "text": [
      "<class 'pandas.core.frame.DataFrame'>\n",
      "RangeIndex: 9000 entries, 0 to 8999\n",
      "Data columns (total 13 columns):\n",
      " #   Column                 Non-Null Count  Dtype  \n",
      "---  ------                 --------------  -----  \n",
      " 0   country                8994 non-null   object \n",
      " 1   description            9000 non-null   object \n",
      " 2   designation            6455 non-null   object \n",
      " 3   points                 9000 non-null   int64  \n",
      " 4   price                  8403 non-null   float64\n",
      " 5   province               8994 non-null   object \n",
      " 6   region_1               7505 non-null   object \n",
      " 7   region_2               3469 non-null   object \n",
      " 8   taster_name            7223 non-null   object \n",
      " 9   taster_twitter_handle  6888 non-null   object \n",
      " 10  title                  9000 non-null   object \n",
      " 11  variety                9000 non-null   object \n",
      " 12  winery                 9000 non-null   object \n",
      "dtypes: float64(1), int64(1), object(11)\n",
      "memory usage: 914.2+ KB\n"
     ]
    }
   ],
   "source": [
    "train.info()"
   ]
  },
  {
   "cell_type": "code",
   "execution_count": 8,
   "metadata": {},
   "outputs": [
    {
     "name": "stdout",
     "output_type": "stream",
     "text": [
      "<class 'pandas.core.frame.DataFrame'>\n",
      "RangeIndex: 1000 entries, 0 to 999\n",
      "Data columns (total 13 columns):\n",
      " #   Column                 Non-Null Count  Dtype  \n",
      "---  ------                 --------------  -----  \n",
      " 0   country                1000 non-null   object \n",
      " 1   description            1000 non-null   object \n",
      " 2   designation            716 non-null    object \n",
      " 3   points                 1000 non-null   int64  \n",
      " 4   price                  920 non-null    float64\n",
      " 5   province               1000 non-null   object \n",
      " 6   region_1               831 non-null    object \n",
      " 7   region_2               384 non-null    object \n",
      " 8   taster_name            792 non-null    object \n",
      " 9   taster_twitter_handle  756 non-null    object \n",
      " 10  title                  1000 non-null   object \n",
      " 11  variety                1000 non-null   object \n",
      " 12  winery                 1000 non-null   object \n",
      "dtypes: float64(1), int64(1), object(11)\n",
      "memory usage: 101.7+ KB\n"
     ]
    }
   ],
   "source": [
    "test.info()"
   ]
  },
  {
   "cell_type": "code",
   "execution_count": 9,
   "metadata": {},
   "outputs": [
    {
     "data": {
      "text/html": [
       "<div>\n",
       "<style scoped>\n",
       "    .dataframe tbody tr th:only-of-type {\n",
       "        vertical-align: middle;\n",
       "    }\n",
       "\n",
       "    .dataframe tbody tr th {\n",
       "        vertical-align: top;\n",
       "    }\n",
       "\n",
       "    .dataframe thead th {\n",
       "        text-align: right;\n",
       "    }\n",
       "</style>\n",
       "<table border=\"1\" class=\"dataframe\">\n",
       "  <thead>\n",
       "    <tr style=\"text-align: right;\">\n",
       "      <th></th>\n",
       "      <th>points</th>\n",
       "      <th>price</th>\n",
       "    </tr>\n",
       "  </thead>\n",
       "  <tbody>\n",
       "    <tr>\n",
       "      <th>count</th>\n",
       "      <td>9000.000000</td>\n",
       "      <td>8403.000000</td>\n",
       "    </tr>\n",
       "    <tr>\n",
       "      <th>mean</th>\n",
       "      <td>88.455222</td>\n",
       "      <td>35.532191</td>\n",
       "    </tr>\n",
       "    <tr>\n",
       "      <th>std</th>\n",
       "      <td>3.025945</td>\n",
       "      <td>40.750683</td>\n",
       "    </tr>\n",
       "    <tr>\n",
       "      <th>min</th>\n",
       "      <td>80.000000</td>\n",
       "      <td>5.000000</td>\n",
       "    </tr>\n",
       "    <tr>\n",
       "      <th>25%</th>\n",
       "      <td>86.000000</td>\n",
       "      <td>17.000000</td>\n",
       "    </tr>\n",
       "    <tr>\n",
       "      <th>50%</th>\n",
       "      <td>88.000000</td>\n",
       "      <td>25.000000</td>\n",
       "    </tr>\n",
       "    <tr>\n",
       "      <th>75%</th>\n",
       "      <td>91.000000</td>\n",
       "      <td>42.000000</td>\n",
       "    </tr>\n",
       "    <tr>\n",
       "      <th>max</th>\n",
       "      <td>100.000000</td>\n",
       "      <td>1300.000000</td>\n",
       "    </tr>\n",
       "  </tbody>\n",
       "</table>\n",
       "</div>"
      ],
      "text/plain": [
       "            points        price\n",
       "count  9000.000000  8403.000000\n",
       "mean     88.455222    35.532191\n",
       "std       3.025945    40.750683\n",
       "min      80.000000     5.000000\n",
       "25%      86.000000    17.000000\n",
       "50%      88.000000    25.000000\n",
       "75%      91.000000    42.000000\n",
       "max     100.000000  1300.000000"
      ]
     },
     "execution_count": 9,
     "metadata": {},
     "output_type": "execute_result"
    }
   ],
   "source": [
    "train.describe()"
   ]
  },
  {
   "cell_type": "markdown",
   "metadata": {},
   "source": [
    "Majority of the features are categorical and we have some missing data in the both datasets. Machine learning models can only work with numerical and non-empty values. Thus we are going to develop strategies in Feature Engineering to impute the missing data and transform categorical values into the numeric values."
   ]
  },
  {
   "cell_type": "code",
   "execution_count": 10,
   "metadata": {},
   "outputs": [
    {
     "data": {
      "text/html": [
       "<div>\n",
       "<style scoped>\n",
       "    .dataframe tbody tr th:only-of-type {\n",
       "        vertical-align: middle;\n",
       "    }\n",
       "\n",
       "    .dataframe tbody tr th {\n",
       "        vertical-align: top;\n",
       "    }\n",
       "\n",
       "    .dataframe thead th {\n",
       "        text-align: right;\n",
       "    }\n",
       "</style>\n",
       "<table border=\"1\" class=\"dataframe\">\n",
       "  <thead>\n",
       "    <tr style=\"text-align: right;\">\n",
       "      <th></th>\n",
       "      <th>points</th>\n",
       "      <th>price</th>\n",
       "    </tr>\n",
       "  </thead>\n",
       "  <tbody>\n",
       "    <tr>\n",
       "      <th>count</th>\n",
       "      <td>1000.000000</td>\n",
       "      <td>920.000000</td>\n",
       "    </tr>\n",
       "    <tr>\n",
       "      <th>mean</th>\n",
       "      <td>88.503000</td>\n",
       "      <td>34.675000</td>\n",
       "    </tr>\n",
       "    <tr>\n",
       "      <th>std</th>\n",
       "      <td>3.067475</td>\n",
       "      <td>42.240874</td>\n",
       "    </tr>\n",
       "    <tr>\n",
       "      <th>min</th>\n",
       "      <td>80.000000</td>\n",
       "      <td>7.000000</td>\n",
       "    </tr>\n",
       "    <tr>\n",
       "      <th>25%</th>\n",
       "      <td>86.000000</td>\n",
       "      <td>17.000000</td>\n",
       "    </tr>\n",
       "    <tr>\n",
       "      <th>50%</th>\n",
       "      <td>88.000000</td>\n",
       "      <td>25.000000</td>\n",
       "    </tr>\n",
       "    <tr>\n",
       "      <th>75%</th>\n",
       "      <td>91.000000</td>\n",
       "      <td>41.000000</td>\n",
       "    </tr>\n",
       "    <tr>\n",
       "      <th>max</th>\n",
       "      <td>97.000000</td>\n",
       "      <td>1000.000000</td>\n",
       "    </tr>\n",
       "  </tbody>\n",
       "</table>\n",
       "</div>"
      ],
      "text/plain": [
       "            points        price\n",
       "count  1000.000000   920.000000\n",
       "mean     88.503000    34.675000\n",
       "std       3.067475    42.240874\n",
       "min      80.000000     7.000000\n",
       "25%      86.000000    17.000000\n",
       "50%      88.000000    25.000000\n",
       "75%      91.000000    41.000000\n",
       "max      97.000000  1000.000000"
      ]
     },
     "execution_count": 10,
     "metadata": {},
     "output_type": "execute_result"
    }
   ],
   "source": [
    "test.describe()"
   ]
  },
  {
   "cell_type": "markdown",
   "metadata": {},
   "source": [
    "## Description of features and target"
   ]
  },
  {
   "cell_type": "code",
   "execution_count": 11,
   "metadata": {},
   "outputs": [
    {
     "data": {
      "text/html": [
       "<div>\n",
       "<style scoped>\n",
       "    .dataframe tbody tr th:only-of-type {\n",
       "        vertical-align: middle;\n",
       "    }\n",
       "\n",
       "    .dataframe tbody tr th {\n",
       "        vertical-align: top;\n",
       "    }\n",
       "\n",
       "    .dataframe thead th {\n",
       "        text-align: right;\n",
       "    }\n",
       "</style>\n",
       "<table border=\"1\" class=\"dataframe\">\n",
       "  <thead>\n",
       "    <tr style=\"text-align: right;\">\n",
       "      <th></th>\n",
       "      <th>country</th>\n",
       "      <th>description</th>\n",
       "      <th>designation</th>\n",
       "      <th>points</th>\n",
       "      <th>price</th>\n",
       "      <th>province</th>\n",
       "      <th>region_1</th>\n",
       "      <th>region_2</th>\n",
       "      <th>taster_name</th>\n",
       "      <th>taster_twitter_handle</th>\n",
       "      <th>title</th>\n",
       "      <th>variety</th>\n",
       "      <th>winery</th>\n",
       "    </tr>\n",
       "  </thead>\n",
       "  <tbody>\n",
       "    <tr>\n",
       "      <th>0</th>\n",
       "      <td>US</td>\n",
       "      <td>Expressive aromas of smoke, embers and blue fr...</td>\n",
       "      <td>NaN</td>\n",
       "      <td>88</td>\n",
       "      <td>35.0</td>\n",
       "      <td>Washington</td>\n",
       "      <td>Columbia Valley (WA)</td>\n",
       "      <td>Columbia Valley</td>\n",
       "      <td>Sean P. Sullivan</td>\n",
       "      <td>@wawinereport</td>\n",
       "      <td>Damsel 2013 Syrah (Columbia Valley (WA))</td>\n",
       "      <td>Syrah</td>\n",
       "      <td>Damsel</td>\n",
       "    </tr>\n",
       "    <tr>\n",
       "      <th>1</th>\n",
       "      <td>South Africa</td>\n",
       "      <td>Soft mint, spice, cocoa and smoke on the nose ...</td>\n",
       "      <td>Redhill</td>\n",
       "      <td>89</td>\n",
       "      <td>30.0</td>\n",
       "      <td>Stellenbosch</td>\n",
       "      <td>NaN</td>\n",
       "      <td>NaN</td>\n",
       "      <td>Susan Kostrzewa</td>\n",
       "      <td>@suskostrzewa</td>\n",
       "      <td>Simonsig 2005 Redhill Pinotage (Stellenbosch)</td>\n",
       "      <td>Pinotage</td>\n",
       "      <td>Simonsig</td>\n",
       "    </tr>\n",
       "    <tr>\n",
       "      <th>2</th>\n",
       "      <td>Portugal</td>\n",
       "      <td>An elegant, finely rounded wine, with firm tan...</td>\n",
       "      <td>NaN</td>\n",
       "      <td>90</td>\n",
       "      <td>NaN</td>\n",
       "      <td>Douro</td>\n",
       "      <td>NaN</td>\n",
       "      <td>NaN</td>\n",
       "      <td>Roger Voss</td>\n",
       "      <td>@vossroger</td>\n",
       "      <td>Quinta de la Rosa 2008 Red (Douro)</td>\n",
       "      <td>Portuguese Red</td>\n",
       "      <td>Quinta de la Rosa</td>\n",
       "    </tr>\n",
       "    <tr>\n",
       "      <th>3</th>\n",
       "      <td>South Africa</td>\n",
       "      <td>Winemaker: Louis Nel. This Cab-Shiraz blend is...</td>\n",
       "      <td>Cape Winemakers Guild Rapscallion</td>\n",
       "      <td>91</td>\n",
       "      <td>NaN</td>\n",
       "      <td>Stellenbosch</td>\n",
       "      <td>NaN</td>\n",
       "      <td>NaN</td>\n",
       "      <td>Lauren Buzzeo</td>\n",
       "      <td>@laurbuzz</td>\n",
       "      <td>Louis Nel 2015 Cape Winemakers Guild Rapscalli...</td>\n",
       "      <td>Cabernet Sauvignon-Shiraz</td>\n",
       "      <td>Louis Nel</td>\n",
       "    </tr>\n",
       "    <tr>\n",
       "      <th>4</th>\n",
       "      <td>Portugal</td>\n",
       "      <td>Lightly wood aged and spicy, this is a fine re...</td>\n",
       "      <td>Casa Américo Branco Reserva</td>\n",
       "      <td>90</td>\n",
       "      <td>NaN</td>\n",
       "      <td>Dão</td>\n",
       "      <td>NaN</td>\n",
       "      <td>NaN</td>\n",
       "      <td>Roger Voss</td>\n",
       "      <td>@vossroger</td>\n",
       "      <td>Seacampo 2014 Casa Américo Branco Reserva Encr...</td>\n",
       "      <td>Encruzado</td>\n",
       "      <td>Seacampo</td>\n",
       "    </tr>\n",
       "  </tbody>\n",
       "</table>\n",
       "</div>"
      ],
      "text/plain": [
       "        country                                        description  \\\n",
       "0            US  Expressive aromas of smoke, embers and blue fr...   \n",
       "1  South Africa  Soft mint, spice, cocoa and smoke on the nose ...   \n",
       "2      Portugal  An elegant, finely rounded wine, with firm tan...   \n",
       "3  South Africa  Winemaker: Louis Nel. This Cab-Shiraz blend is...   \n",
       "4      Portugal  Lightly wood aged and spicy, this is a fine re...   \n",
       "\n",
       "                         designation  points  price      province  \\\n",
       "0                                NaN      88   35.0    Washington   \n",
       "1                            Redhill      89   30.0  Stellenbosch   \n",
       "2                                NaN      90    NaN         Douro   \n",
       "3  Cape Winemakers Guild Rapscallion      91    NaN  Stellenbosch   \n",
       "4        Casa Américo Branco Reserva      90    NaN           Dão   \n",
       "\n",
       "               region_1         region_2       taster_name  \\\n",
       "0  Columbia Valley (WA)  Columbia Valley  Sean P. Sullivan   \n",
       "1                   NaN              NaN   Susan Kostrzewa   \n",
       "2                   NaN              NaN        Roger Voss   \n",
       "3                   NaN              NaN     Lauren Buzzeo   \n",
       "4                   NaN              NaN        Roger Voss   \n",
       "\n",
       "  taster_twitter_handle                                              title  \\\n",
       "0         @wawinereport           Damsel 2013 Syrah (Columbia Valley (WA))   \n",
       "1         @suskostrzewa      Simonsig 2005 Redhill Pinotage (Stellenbosch)   \n",
       "2            @vossroger                 Quinta de la Rosa 2008 Red (Douro)   \n",
       "3             @laurbuzz  Louis Nel 2015 Cape Winemakers Guild Rapscalli...   \n",
       "4            @vossroger  Seacampo 2014 Casa Américo Branco Reserva Encr...   \n",
       "\n",
       "                     variety             winery  \n",
       "0                      Syrah             Damsel  \n",
       "1                   Pinotage           Simonsig  \n",
       "2             Portuguese Red  Quinta de la Rosa  \n",
       "3  Cabernet Sauvignon-Shiraz          Louis Nel  \n",
       "4                  Encruzado           Seacampo  "
      ]
     },
     "execution_count": 11,
     "metadata": {},
     "output_type": "execute_result"
    }
   ],
   "source": [
    "train.head()"
   ]
  },
  {
   "cell_type": "code",
   "execution_count": 12,
   "metadata": {},
   "outputs": [
    {
     "data": {
      "text/html": [
       "<div>\n",
       "<style scoped>\n",
       "    .dataframe tbody tr th:only-of-type {\n",
       "        vertical-align: middle;\n",
       "    }\n",
       "\n",
       "    .dataframe tbody tr th {\n",
       "        vertical-align: top;\n",
       "    }\n",
       "\n",
       "    .dataframe thead th {\n",
       "        text-align: right;\n",
       "    }\n",
       "</style>\n",
       "<table border=\"1\" class=\"dataframe\">\n",
       "  <thead>\n",
       "    <tr style=\"text-align: right;\">\n",
       "      <th></th>\n",
       "      <th>country</th>\n",
       "      <th>description</th>\n",
       "      <th>designation</th>\n",
       "      <th>points</th>\n",
       "      <th>price</th>\n",
       "      <th>province</th>\n",
       "      <th>region_1</th>\n",
       "      <th>region_2</th>\n",
       "      <th>taster_name</th>\n",
       "      <th>taster_twitter_handle</th>\n",
       "      <th>title</th>\n",
       "      <th>variety</th>\n",
       "      <th>winery</th>\n",
       "    </tr>\n",
       "  </thead>\n",
       "  <tbody>\n",
       "    <tr>\n",
       "      <th>5559</th>\n",
       "      <td>US</td>\n",
       "      <td>Creamy and nutty, this wine offers ample herba...</td>\n",
       "      <td>NaN</td>\n",
       "      <td>85</td>\n",
       "      <td>19.0</td>\n",
       "      <td>California</td>\n",
       "      <td>Russian River Valley</td>\n",
       "      <td>Sonoma</td>\n",
       "      <td>Virginie Boone</td>\n",
       "      <td>@vboone</td>\n",
       "      <td>Novy 2013 Sauvignon Blanc (Russian River Valley)</td>\n",
       "      <td>Sauvignon Blanc</td>\n",
       "      <td>Novy</td>\n",
       "    </tr>\n",
       "    <tr>\n",
       "      <th>7566</th>\n",
       "      <td>US</td>\n",
       "      <td>Mount Eden makes their estate Cab the old-fash...</td>\n",
       "      <td>Estate Bottled</td>\n",
       "      <td>93</td>\n",
       "      <td>50.0</td>\n",
       "      <td>California</td>\n",
       "      <td>Santa Cruz Mountains</td>\n",
       "      <td>Central Coast</td>\n",
       "      <td>NaN</td>\n",
       "      <td>NaN</td>\n",
       "      <td>Mount Eden Vineyards 2005 Estate Bottled Caber...</td>\n",
       "      <td>Cabernet Sauvignon</td>\n",
       "      <td>Mount Eden Vineyards</td>\n",
       "    </tr>\n",
       "    <tr>\n",
       "      <th>2873</th>\n",
       "      <td>Chile</td>\n",
       "      <td>Oaky chocolaty aromas and candied berry notes ...</td>\n",
       "      <td>Pedregoso Gran Reserva</td>\n",
       "      <td>88</td>\n",
       "      <td>15.0</td>\n",
       "      <td>Limarí Valley</td>\n",
       "      <td>NaN</td>\n",
       "      <td>NaN</td>\n",
       "      <td>Michael Schachner</td>\n",
       "      <td>@wineschach</td>\n",
       "      <td>Viña Tabalí 2014 Pedregoso Gran Reserva Syrah ...</td>\n",
       "      <td>Syrah</td>\n",
       "      <td>Viña Tabalí</td>\n",
       "    </tr>\n",
       "    <tr>\n",
       "      <th>3917</th>\n",
       "      <td>France</td>\n",
       "      <td>This is a rounded, ripe and fruity wine named ...</td>\n",
       "      <td>Mira</td>\n",
       "      <td>89</td>\n",
       "      <td>17.0</td>\n",
       "      <td>Provence</td>\n",
       "      <td>Côtes de Provence</td>\n",
       "      <td>NaN</td>\n",
       "      <td>Roger Voss</td>\n",
       "      <td>@vossroger</td>\n",
       "      <td>Château Ferry Lacombe 2015 Mira Rosé (Côtes de...</td>\n",
       "      <td>Rosé</td>\n",
       "      <td>Château Ferry Lacombe</td>\n",
       "    </tr>\n",
       "    <tr>\n",
       "      <th>2612</th>\n",
       "      <td>US</td>\n",
       "      <td>Clean and zesty, this is a nice cocktail sippe...</td>\n",
       "      <td>NaN</td>\n",
       "      <td>85</td>\n",
       "      <td>9.0</td>\n",
       "      <td>California</td>\n",
       "      <td>California</td>\n",
       "      <td>California Other</td>\n",
       "      <td>NaN</td>\n",
       "      <td>NaN</td>\n",
       "      <td>Fetzer 2006 Pinot Grigio (California)</td>\n",
       "      <td>Pinot Grigio</td>\n",
       "      <td>Fetzer</td>\n",
       "    </tr>\n",
       "  </tbody>\n",
       "</table>\n",
       "</div>"
      ],
      "text/plain": [
       "     country                                        description  \\\n",
       "5559      US  Creamy and nutty, this wine offers ample herba...   \n",
       "7566      US  Mount Eden makes their estate Cab the old-fash...   \n",
       "2873   Chile  Oaky chocolaty aromas and candied berry notes ...   \n",
       "3917  France  This is a rounded, ripe and fruity wine named ...   \n",
       "2612      US  Clean and zesty, this is a nice cocktail sippe...   \n",
       "\n",
       "                 designation  points  price       province  \\\n",
       "5559                     NaN      85   19.0     California   \n",
       "7566          Estate Bottled      93   50.0     California   \n",
       "2873  Pedregoso Gran Reserva      88   15.0  Limarí Valley   \n",
       "3917                    Mira      89   17.0       Provence   \n",
       "2612                     NaN      85    9.0     California   \n",
       "\n",
       "                  region_1          region_2        taster_name  \\\n",
       "5559  Russian River Valley            Sonoma     Virginie Boone   \n",
       "7566  Santa Cruz Mountains     Central Coast                NaN   \n",
       "2873                   NaN               NaN  Michael Schachner   \n",
       "3917     Côtes de Provence               NaN         Roger Voss   \n",
       "2612            California  California Other                NaN   \n",
       "\n",
       "     taster_twitter_handle                                              title  \\\n",
       "5559               @vboone   Novy 2013 Sauvignon Blanc (Russian River Valley)   \n",
       "7566                   NaN  Mount Eden Vineyards 2005 Estate Bottled Caber...   \n",
       "2873           @wineschach  Viña Tabalí 2014 Pedregoso Gran Reserva Syrah ...   \n",
       "3917            @vossroger  Château Ferry Lacombe 2015 Mira Rosé (Côtes de...   \n",
       "2612                   NaN              Fetzer 2006 Pinot Grigio (California)   \n",
       "\n",
       "                 variety                 winery  \n",
       "5559     Sauvignon Blanc                   Novy  \n",
       "7566  Cabernet Sauvignon   Mount Eden Vineyards  \n",
       "2873               Syrah            Viña Tabalí  \n",
       "3917                Rosé  Château Ferry Lacombe  \n",
       "2612        Pinot Grigio                 Fetzer  "
      ]
     },
     "execution_count": 12,
     "metadata": {},
     "output_type": "execute_result"
    }
   ],
   "source": [
    "train.sample(5)"
   ]
  },
  {
   "cell_type": "markdown",
   "metadata": {},
   "source": [
    "With some intuition, expert knowledge and help of Google here are the explanation of features and target:\n",
    "\n",
    "- <b>country:</b> Origin of the wine producer\n",
    "- <b>description:</b> Presentment of the taster to describe the wine\n",
    "- <b>designation:</b> Name of the wine given to the wine by the producer, sometimes used interchangeably with vineyard. Usually available in the title.\n",
    "- <b>points:</b> Our target value, representing score of a particular wine received from a taster. An important remark is, a wine may receive different points from the same taster.\n",
    "- <b>price:</b> Price of the wine\n",
    "- <b>region_1:</b> Official definition of the place where the grapes for a wine are grown\n",
    "- <b>region_2:</b> Official definition of the place where the grapes for a wine are grown\n",
    "- <b>taster_name:</b> The taster, as obvious assigns points to the wine\n",
    "- <b>title:</b> Name of the wine, as available on the label\n",
    "- <b>variety:</b> Grape variety of the wine\n",
    "- <b>winery:</b> name of the wine producer"
   ]
  },
  {
   "cell_type": "markdown",
   "metadata": {},
   "source": [
    "## Missing values of the datasets"
   ]
  },
  {
   "cell_type": "code",
   "execution_count": 13,
   "metadata": {},
   "outputs": [
    {
     "name": "stdout",
     "output_type": "stream",
     "text": [
      "Your selected dataframe has 13 columns.\n",
      "There are 8 columns that have missing values.\n"
     ]
    },
    {
     "data": {
      "text/html": [
       "<div>\n",
       "<style scoped>\n",
       "    .dataframe tbody tr th:only-of-type {\n",
       "        vertical-align: middle;\n",
       "    }\n",
       "\n",
       "    .dataframe tbody tr th {\n",
       "        vertical-align: top;\n",
       "    }\n",
       "\n",
       "    .dataframe thead th {\n",
       "        text-align: right;\n",
       "    }\n",
       "</style>\n",
       "<table border=\"1\" class=\"dataframe\">\n",
       "  <thead>\n",
       "    <tr style=\"text-align: right;\">\n",
       "      <th></th>\n",
       "      <th>Missing Values</th>\n",
       "      <th>% of Total Values</th>\n",
       "    </tr>\n",
       "  </thead>\n",
       "  <tbody>\n",
       "    <tr>\n",
       "      <th>region_2</th>\n",
       "      <td>5531</td>\n",
       "      <td>61.5</td>\n",
       "    </tr>\n",
       "    <tr>\n",
       "      <th>designation</th>\n",
       "      <td>2545</td>\n",
       "      <td>28.3</td>\n",
       "    </tr>\n",
       "    <tr>\n",
       "      <th>taster_twitter_handle</th>\n",
       "      <td>2112</td>\n",
       "      <td>23.5</td>\n",
       "    </tr>\n",
       "    <tr>\n",
       "      <th>taster_name</th>\n",
       "      <td>1777</td>\n",
       "      <td>19.7</td>\n",
       "    </tr>\n",
       "    <tr>\n",
       "      <th>region_1</th>\n",
       "      <td>1495</td>\n",
       "      <td>16.6</td>\n",
       "    </tr>\n",
       "    <tr>\n",
       "      <th>price</th>\n",
       "      <td>597</td>\n",
       "      <td>6.6</td>\n",
       "    </tr>\n",
       "    <tr>\n",
       "      <th>country</th>\n",
       "      <td>6</td>\n",
       "      <td>0.1</td>\n",
       "    </tr>\n",
       "    <tr>\n",
       "      <th>province</th>\n",
       "      <td>6</td>\n",
       "      <td>0.1</td>\n",
       "    </tr>\n",
       "  </tbody>\n",
       "</table>\n",
       "</div>"
      ],
      "text/plain": [
       "                       Missing Values  % of Total Values\n",
       "region_2                         5531               61.5\n",
       "designation                      2545               28.3\n",
       "taster_twitter_handle            2112               23.5\n",
       "taster_name                      1777               19.7\n",
       "region_1                         1495               16.6\n",
       "price                             597                6.6\n",
       "country                             6                0.1\n",
       "province                            6                0.1"
      ]
     },
     "execution_count": 13,
     "metadata": {},
     "output_type": "execute_result"
    }
   ],
   "source": [
    "missing_values_table(train)"
   ]
  },
  {
   "cell_type": "code",
   "execution_count": 14,
   "metadata": {},
   "outputs": [
    {
     "name": "stdout",
     "output_type": "stream",
     "text": [
      "Your selected dataframe has 13 columns.\n",
      "There are 6 columns that have missing values.\n"
     ]
    },
    {
     "data": {
      "text/html": [
       "<div>\n",
       "<style scoped>\n",
       "    .dataframe tbody tr th:only-of-type {\n",
       "        vertical-align: middle;\n",
       "    }\n",
       "\n",
       "    .dataframe tbody tr th {\n",
       "        vertical-align: top;\n",
       "    }\n",
       "\n",
       "    .dataframe thead th {\n",
       "        text-align: right;\n",
       "    }\n",
       "</style>\n",
       "<table border=\"1\" class=\"dataframe\">\n",
       "  <thead>\n",
       "    <tr style=\"text-align: right;\">\n",
       "      <th></th>\n",
       "      <th>Missing Values</th>\n",
       "      <th>% of Total Values</th>\n",
       "    </tr>\n",
       "  </thead>\n",
       "  <tbody>\n",
       "    <tr>\n",
       "      <th>region_2</th>\n",
       "      <td>616</td>\n",
       "      <td>61.6</td>\n",
       "    </tr>\n",
       "    <tr>\n",
       "      <th>designation</th>\n",
       "      <td>284</td>\n",
       "      <td>28.4</td>\n",
       "    </tr>\n",
       "    <tr>\n",
       "      <th>taster_twitter_handle</th>\n",
       "      <td>244</td>\n",
       "      <td>24.4</td>\n",
       "    </tr>\n",
       "    <tr>\n",
       "      <th>taster_name</th>\n",
       "      <td>208</td>\n",
       "      <td>20.8</td>\n",
       "    </tr>\n",
       "    <tr>\n",
       "      <th>region_1</th>\n",
       "      <td>169</td>\n",
       "      <td>16.9</td>\n",
       "    </tr>\n",
       "    <tr>\n",
       "      <th>price</th>\n",
       "      <td>80</td>\n",
       "      <td>8.0</td>\n",
       "    </tr>\n",
       "  </tbody>\n",
       "</table>\n",
       "</div>"
      ],
      "text/plain": [
       "                       Missing Values  % of Total Values\n",
       "region_2                          616               61.6\n",
       "designation                       284               28.4\n",
       "taster_twitter_handle             244               24.4\n",
       "taster_name                       208               20.8\n",
       "region_1                          169               16.9\n",
       "price                              80                8.0"
      ]
     },
     "execution_count": 14,
     "metadata": {},
     "output_type": "execute_result"
    }
   ],
   "source": [
    "missing_values_table(test)"
   ]
  },
  {
   "cell_type": "markdown",
   "metadata": {},
   "source": [
    "Features that have missing values more than 50% will be dropped since they aren't likely to provide significant information to the machine learning model.\n",
    "\n",
    "In this sample dataset, target value has no missing values, if we had some, we would drop all the missing values of the target to not to leak any data or distort the existing distribution of the target.\n",
    "\n",
    "Considering above comments and looking at the missing values, region_2 will be dropped."
   ]
  },
  {
   "cell_type": "markdown",
   "metadata": {},
   "source": [
    "## Cardinality of the non-numeric features"
   ]
  },
  {
   "cell_type": "markdown",
   "metadata": {},
   "source": [
    "High cardinality features may cause problems when we are training our model. Even though we transform each unique value of a categorical feature to a new feature, they may bring the curse of dimensionality. So, we are going to use the high cardinality features for adding new features, then we are going to remove them from the datasets."
   ]
  },
  {
   "cell_type": "code",
   "execution_count": 15,
   "metadata": {},
   "outputs": [
    {
     "name": "stdout",
     "output_type": "stream",
     "text": [
      "country has 37 unique values.\n",
      "description has 8948 unique values.\n",
      "designation has 4913 unique values.\n",
      "province has 236 unique values.\n",
      "region_1 has 699 unique values.\n",
      "region_2 has 17 unique values.\n",
      "taster_name has 18 unique values.\n",
      "taster_twitter_handle has 14 unique values.\n",
      "title has 8937 unique values.\n",
      "variety has 325 unique values.\n",
      "winery has 5097 unique values.\n"
     ]
    }
   ],
   "source": [
    "object_columns = (train\n",
    "                  .select_dtypes(include=\"object\")\n",
    "                  .columns)\n",
    "\n",
    "for column in object_columns:\n",
    "    print(\"{} has {} unique values.\"\n",
    "          .format(column, \n",
    "                  train[column]\n",
    "                  .nunique()))"
   ]
  },
  {
   "cell_type": "markdown",
   "metadata": {},
   "source": [
    "<b>Cardinality</b> is the number of unique values that a feature has.\n",
    "\n",
    "<b>We have some high-cardinality features:</b>\n",
    "\n",
    "- description\n",
    "- designation\n",
    "- title\n",
    "- winery\n",
    "\n",
    "<b>We have some moderate-cardinality features:</b>\n",
    "\n",
    "- province\n",
    "- region_1\n",
    "- variety\n",
    "\n",
    "<b>We have some low-cardinality features:</b>\n",
    "\n",
    "- country\n",
    "- taster_name\n",
    "- taster_twitter_handle\n",
    "\n",
    "Description contains information about wine's color, taste and notes (like citrus, tannins). Title feature contains year of the wine produced. Variety has the information about if different type of grapes are blended or not. They can be used to extract more features.\n",
    "\n",
    "High cardinality features will be dropped from the dataset, if not used for feature extraction.\n",
    "\n",
    "Most frequent values of moderate and low cardinality features will be explored in the Exploratory Data Analysis."
   ]
  },
  {
   "cell_type": "markdown",
   "metadata": {},
   "source": [
    "## Unique values of taster_name and taster_twitter_handle"
   ]
  },
  {
   "cell_type": "code",
   "execution_count": 16,
   "metadata": {},
   "outputs": [
    {
     "name": "stdout",
     "output_type": "stream",
     "text": [
      "Sean P. Sullivan\n",
      "Susan Kostrzewa\n",
      "Roger Voss\n",
      "Lauren Buzzeo\n",
      "Joe Czerwinski\n",
      "Michael Schachner\n",
      "Jim Gordon\n",
      "Kerin O’Keefe\n",
      "Matt Kettmann\n",
      "nan\n",
      "Paul Gregutt\n",
      "Virginie Boone\n",
      "Anna Lee C. Iijima\n",
      "Jeff Jenssen\n",
      "Mike DeSimone\n",
      "Anne Krebiehl MW\n",
      "Alexander Peartree\n",
      "Fiona Adams\n",
      "Carrie Dykes\n"
     ]
    }
   ],
   "source": [
    "taster_names = train[\"taster_name\"].unique()\n",
    "\n",
    "for value in taster_names:\n",
    "    print(value)"
   ]
  },
  {
   "cell_type": "code",
   "execution_count": 17,
   "metadata": {},
   "outputs": [
    {
     "name": "stdout",
     "output_type": "stream",
     "text": [
      "@wawinereport\n",
      "@suskostrzewa\n",
      "@vossroger\n",
      "@laurbuzz\n",
      "@JoeCz\n",
      "@wineschach\n",
      "@gordone_cellars\n",
      "@kerinokeefe\n",
      "@mattkettmann\n",
      "nan\n",
      "@paulgwine \n",
      "@vboone\n",
      "@worldwineguys\n",
      "@AnneInVino\n",
      "@bkfiona\n"
     ]
    }
   ],
   "source": [
    "taster_twitter_handles = (train[\"taster_twitter_handle\"]\n",
    "                          .unique())\n",
    "\n",
    "for value in taster_twitter_handles:\n",
    "    print(value)"
   ]
  },
  {
   "cell_type": "markdown",
   "metadata": {},
   "source": [
    "The objective is to show good prediction is possible using wine predictor, which is a machine learning model itself. A \"good prediction\" is possible with features of independent variables that are predictive of the points. \n",
    "\n",
    "So we do not want to use dependent features (like taster_twitter_handle and the taster_name) when building our model, because they are providing the same information to the model and possibly making it unnecessarily complicated. \n",
    "\n",
    "After some online research and making sure that each unique value of taster_twitter_handle is available in the taster_name feature, we can remove taster_twitter_handle to build a good predictor."
   ]
  },
  {
   "cell_type": "markdown",
   "metadata": {},
   "source": [
    "## Clean data"
   ]
  },
  {
   "cell_type": "markdown",
   "metadata": {},
   "source": [
    "Our dataset contains duplicate rows, which I realized by following the clue of some of the rows having same descriptions.\n",
    "\n",
    "- high-cardinality features not used in feature extraction: designation, winery\n",
    "- high-percentage missing value features: region_2\n",
    "- dependent features: taster_twitter_handle\n",
    "- duplicate rows\n",
    "- rows that have missing values in the points\n",
    "\n",
    "Both datasets will be cleaned by dropping them."
   ]
  },
  {
   "cell_type": "code",
   "execution_count": 18,
   "metadata": {},
   "outputs": [],
   "source": [
    "def CleanData(df):\n",
    "    \"\"\" \n",
    "        this function drops not used features and \n",
    "        duplicate rows and empty rows of target(poinst) \n",
    "        returns cleaned df\n",
    "    \"\"\"\n",
    "\n",
    "    drop_columns = [\"designation\",\n",
    "                    \"winery\",\n",
    "                    \"region_2\",\n",
    "                    \"taster_twitter_handle\"]\n",
    "    interim_df = df.drop(columns=drop_columns)\n",
    "\n",
    "    interim_df_2 = (interim_df\n",
    "                    .drop_duplicates(ignore_index=True))\n",
    "    \n",
    "    cleaned_df = (interim_df_2\n",
    "                  .dropna(subset=[\"points\"], \n",
    "                          how=\"any\")\n",
    "                  .reset_index(drop=True))\n",
    "    \n",
    "    return cleaned_df"
   ]
  },
  {
   "cell_type": "code",
   "execution_count": 19,
   "metadata": {},
   "outputs": [],
   "source": [
    "train_cleaned = CleanData(train)\n",
    "test_cleaned = CleanData(test)"
   ]
  },
  {
   "cell_type": "markdown",
   "metadata": {},
   "source": [
    "## Findings from Understand & Clean & Format Data"
   ]
  },
  {
   "cell_type": "code",
   "execution_count": 20,
   "metadata": {},
   "outputs": [
    {
     "name": "stdout",
     "output_type": "stream",
     "text": [
      "After the Understand & Clean & Format Data part 8948 rows and 9 columns left in the train dataset.\n",
      "After the Understand & Clean & Format Data part 1000 rows and 9 columns left in the test dataset.\n"
     ]
    }
   ],
   "source": [
    "print(\n",
    "    \"After the Understand & Clean & Format Data part {} rows and {} columns left in the train dataset.\"\n",
    "    .format(train_cleaned.shape[0], \n",
    "            train_cleaned.shape[1]))\n",
    "print(\n",
    "    \"After the Understand & Clean & Format Data part {} rows and {} columns left in the test dataset.\"\n",
    "    .format(test_cleaned.shape[0], \n",
    "            test_cleaned.shape[1]))"
   ]
  },
  {
   "cell_type": "markdown",
   "metadata": {},
   "source": [
    "- Non-numeric features are grouped as high, moderate and low cardinality features. Moderate and low cardinality features will be explored in the *Exploratory Data Analysis* part.\n",
    "- Features to be used for feature extraction (description, title and variety) in *Feature Engineering* part is pre-determined.\n",
    "- Duplicate rows, not-used features and dependent features are dropped. As a result we are left with 8 features in total. 8948 are left in the train dataset, test dataset row count did not change."
   ]
  },
  {
   "cell_type": "markdown",
   "metadata": {},
   "source": [
    "# Exploratory Data Analysis"
   ]
  },
  {
   "cell_type": "markdown",
   "metadata": {},
   "source": [
    "## Distribution of points"
   ]
  },
  {
   "cell_type": "code",
   "execution_count": 21,
   "metadata": {},
   "outputs": [
    {
     "data": {
      "text/plain": [
       "<Axes: title={'center': 'Distribution of points'}, xlabel='points', ylabel='Count'>"
      ]
     },
     "execution_count": 21,
     "metadata": {},
     "output_type": "execute_result"
    },
    {
     "data": {
      "image/png": "[encoded data removed]",
      "text/plain": [
       "<Figure size 1000x800 with 1 Axes>"
      ]
     },
     "metadata": {
      "image/png": {
       "height": 714,
       "width": 878
      }
     },
     "output_type": "display_data"
    }
   ],
   "source": [
    "figsize(10, 8)\n",
    "plt.rcParams['font.size'] = 14\n",
    "plot_histogram(train_cleaned, \"points\")"
   ]
  },
  {
   "cell_type": "markdown",
   "metadata": {},
   "source": [
    "***Distribution*** is a description of a variable's range and how data is spread in that range.\n",
    "\n",
    "Points show a normal distribution (a bell shaped curve obvious) as expected from a random variable. Range of wine points are distributed between 80 and 100 with the average (mean) of 88.45 and median (the middle value) of 88. Moreover, standard deviation, a measure of spread of a data range, is 3.03. Based on this statistics, we can confidently say that:\n",
    "\n",
    "* 68% of the points lie in the 85.5 - 91.5 range\n",
    "* 95% of the points lie in the 82.5 - 94.5 range\n",
    "* 99% of the points lie in the 79.5 - 97.5 range\n",
    "\n",
    "Alternatively, we can see the points as a classification of wines and interpret points as different classes according to [wine searcher](https://www.wine-searcher.com/critics-17-wine+enthusiast):\n",
    "\n",
    "* 98–100: Classic\n",
    "* 94–97: Superb\n",
    "* 90–93: Excellent\n",
    "* 87–89: Very good\n",
    "* 83–86: Good\n",
    "* 80–82: Acceptable\n",
    "\n",
    "However, this would be different wine predictor, which we will not touch is scope of this project."
   ]
  },
  {
   "cell_type": "markdown",
   "metadata": {},
   "source": [
    "## Distribution of price"
   ]
  },
  {
   "cell_type": "code",
   "execution_count": 22,
   "metadata": {},
   "outputs": [
    {
     "data": {
      "text/plain": [
       "<Axes: title={'center': 'Distribution of price'}, xlabel='price', ylabel='Count'>"
      ]
     },
     "execution_count": 22,
     "metadata": {},
     "output_type": "execute_result"
    },
    {
     "data": {
      "image/png": "[encoded data removed]",
      "text/plain": [
       "<Figure size 1000x800 with 1 Axes>"
      ]
     },
     "metadata": {
      "image/png": {
       "height": 714,
       "width": 866
      }
     },
     "output_type": "display_data"
    }
   ],
   "source": [
    "figsize(10, 8)\n",
    "plt.rcParams['font.size'] = 14\n",
    "plot_histogram(train_cleaned, \"price\")"
   ]
  },
  {
   "cell_type": "markdown",
   "metadata": {},
   "source": [
    "Price is concentrated between the range 0-200, which is defined as ***right-skewed*** distribution. \n",
    "\n",
    "This can be interpreted as majority of the wine prices are lower than 200 and most of them are cheaper wine, explaining the spike near 0.\n",
    "\n",
    "This is also an indicator of we have a few very expensive wines, extending price to 1200."
   ]
  },
  {
   "cell_type": "code",
   "execution_count": 23,
   "metadata": {},
   "outputs": [
    {
     "data": {
      "text/plain": [
       "(0.0, 200.0)"
      ]
     },
     "execution_count": 23,
     "metadata": {},
     "output_type": "execute_result"
    },
    {
     "data": {
      "image/png": "[encoded data removed]",
      "text/plain": [
       "<Figure size 1000x800 with 1 Axes>"
      ]
     },
     "metadata": {
      "image/png": {
       "height": 714,
       "width": 897
      }
     },
     "output_type": "display_data"
    }
   ],
   "source": [
    "figsize(10, 8)\n",
    "plt.rcParams['font.size'] = 14\n",
    "plot_histogram(train_cleaned, \"price\", 200)\n",
    "plt.xlim(0,200)"
   ]
  },
  {
   "cell_type": "markdown",
   "metadata": {},
   "source": [
    "This gives us a better picture of price distribution. It is still a right-skewed distribution but we can more clearly see that most the wine price's are less than 50. Median of the price is 25 and the average price is 35.5.\n",
    "\n",
    "In order to use price as a predictor, we need to assume a points received of a wine does not cause any price change. Otherwise, price feature would cause data leakage which would spoil our future predictions of points. \n",
    "\n",
    "Nonetheless, price is an indicator of wine's quality and age and assuming it is not affected by the points received, it will be an important determiner for the model."
   ]
  }
 ],
 "metadata": {
  "kernelspec": {
   "display_name": ".venv",
   "language": "python",
   "name": "python3"
  },
  "language_info": {
   "codemirror_mode": {
    "name": "ipython",
    "version": 3
   },
   "file_extension": ".py",
   "mimetype": "text/x-python",
   "name": "python",
   "nbconvert_exporter": "python",
   "pygments_lexer": "ipython3",
   "version": "3.12.2"
  }
 },
 "nbformat": 4,
 "nbformat_minor": 2
}
