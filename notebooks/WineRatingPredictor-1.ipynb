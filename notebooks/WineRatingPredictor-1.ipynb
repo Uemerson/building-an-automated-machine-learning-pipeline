{
 "cells": [
  {
   "cell_type": "markdown",
   "metadata": {},
   "source": [
    "# Imports"
   ]
  },
  {
   "cell_type": "code",
   "execution_count": 1,
   "metadata": {},
   "outputs": [],
   "source": [
    "# data manipulation libraries\n",
    "import pandas as pd\n",
    "import numpy as np\n",
    "pd.set_option('display.max_columns', 60)\n",
    "\n",
    "# data visualization libraries\n",
    "import matplotlib.pyplot as plt\n",
    "import seaborn as sns\n",
    "from IPython.core.pylabtools import figsize\n",
    "\n",
    "%matplotlib inline\n",
    "# to display visuals in the notebook\n",
    "\n",
    "%config InlineBackend.figure_format='retina'\n",
    "#to enable high resolution plots\n",
    "\n",
    "# feature extraction and preprocessing\n",
    "import re\n",
    "import datetime\n",
    "\n",
    "# feature transformation and preprocessing\n",
    "from category_encoders.ordinal import OrdinalEncoder\n",
    "from sklearn.model_selection import train_test_split\n",
    "from sklearn.impute import SimpleImputer"
   ]
  },
  {
   "cell_type": "markdown",
   "metadata": {},
   "source": [
    "# Understand & Clean & Format Data"
   ]
  },
  {
   "cell_type": "code",
   "execution_count": 2,
   "metadata": {},
   "outputs": [
    {
     "data": {
      "text/html": [
       "<div>\n",
       "<style scoped>\n",
       "    .dataframe tbody tr th:only-of-type {\n",
       "        vertical-align: middle;\n",
       "    }\n",
       "\n",
       "    .dataframe tbody tr th {\n",
       "        vertical-align: top;\n",
       "    }\n",
       "\n",
       "    .dataframe thead th {\n",
       "        text-align: right;\n",
       "    }\n",
       "</style>\n",
       "<table border=\"1\" class=\"dataframe\">\n",
       "  <thead>\n",
       "    <tr style=\"text-align: right;\">\n",
       "      <th></th>\n",
       "      <th>country</th>\n",
       "      <th>description</th>\n",
       "      <th>designation</th>\n",
       "      <th>points</th>\n",
       "      <th>price</th>\n",
       "      <th>province</th>\n",
       "      <th>region_1</th>\n",
       "      <th>region_2</th>\n",
       "      <th>taster_name</th>\n",
       "      <th>taster_twitter_handle</th>\n",
       "      <th>title</th>\n",
       "      <th>variety</th>\n",
       "      <th>winery</th>\n",
       "    </tr>\n",
       "  </thead>\n",
       "  <tbody>\n",
       "    <tr>\n",
       "      <th>3200</th>\n",
       "      <td>Portugal</td>\n",
       "      <td>Full and round, this is a ripe blackberry-flav...</td>\n",
       "      <td>Samora Tinto</td>\n",
       "      <td>85</td>\n",
       "      <td>12.0</td>\n",
       "      <td>Tejo</td>\n",
       "      <td>NaN</td>\n",
       "      <td>NaN</td>\n",
       "      <td>Roger Voss</td>\n",
       "      <td>@vossroger</td>\n",
       "      <td>Wines &amp; Winemakers 2012 Samora Tinto Red (Tejo)</td>\n",
       "      <td>Portuguese Red</td>\n",
       "      <td>Wines &amp; Winemakers</td>\n",
       "    </tr>\n",
       "    <tr>\n",
       "      <th>6908</th>\n",
       "      <td>US</td>\n",
       "      <td>To call it entry level does not do justice to ...</td>\n",
       "      <td>Unfiltered</td>\n",
       "      <td>91</td>\n",
       "      <td>29.0</td>\n",
       "      <td>Oregon</td>\n",
       "      <td>Willamette Valley</td>\n",
       "      <td>Willamette Valley</td>\n",
       "      <td>Paul Gregutt</td>\n",
       "      <td>@paulgwine</td>\n",
       "      <td>J. Christopher 2012 Unfiltered Pinot Noir (Wil...</td>\n",
       "      <td>Pinot Noir</td>\n",
       "      <td>J. Christopher</td>\n",
       "    </tr>\n",
       "    <tr>\n",
       "      <th>6385</th>\n",
       "      <td>US</td>\n",
       "      <td>Black cherry juice, anise, thyme and pepper sh...</td>\n",
       "      <td>NaN</td>\n",
       "      <td>87</td>\n",
       "      <td>16.0</td>\n",
       "      <td>California</td>\n",
       "      <td>Paso Robles</td>\n",
       "      <td>Central Coast</td>\n",
       "      <td>Matt Kettmann</td>\n",
       "      <td>@mattkettmann</td>\n",
       "      <td>Maddalena 2012 Merlot (Paso Robles)</td>\n",
       "      <td>Merlot</td>\n",
       "      <td>Maddalena</td>\n",
       "    </tr>\n",
       "    <tr>\n",
       "      <th>4642</th>\n",
       "      <td>US</td>\n",
       "      <td>Quite earthy in profile with hints of smoke, p...</td>\n",
       "      <td>Dry</td>\n",
       "      <td>87</td>\n",
       "      <td>16.0</td>\n",
       "      <td>New York</td>\n",
       "      <td>Finger Lakes</td>\n",
       "      <td>Finger Lakes</td>\n",
       "      <td>Anna Lee C. Iijima</td>\n",
       "      <td>NaN</td>\n",
       "      <td>Billsboro 2010 Dry Riesling (Finger Lakes)</td>\n",
       "      <td>Riesling</td>\n",
       "      <td>Billsboro</td>\n",
       "    </tr>\n",
       "    <tr>\n",
       "      <th>6253</th>\n",
       "      <td>Germany</td>\n",
       "      <td>Hints of bramble and earth lend savory nuances...</td>\n",
       "      <td>Bernkasteler alte Badstube am Doctorberg Kabinett</td>\n",
       "      <td>89</td>\n",
       "      <td>28.0</td>\n",
       "      <td>Mosel</td>\n",
       "      <td>NaN</td>\n",
       "      <td>NaN</td>\n",
       "      <td>Anna Lee C. Iijima</td>\n",
       "      <td>NaN</td>\n",
       "      <td>Dr. Heidemanns-Bergweiler 2014 Bernkasteler al...</td>\n",
       "      <td>Riesling</td>\n",
       "      <td>Dr. Heidemanns-Bergweiler</td>\n",
       "    </tr>\n",
       "  </tbody>\n",
       "</table>\n",
       "</div>"
      ],
      "text/plain": [
       "       country                                        description  \\\n",
       "3200  Portugal  Full and round, this is a ripe blackberry-flav...   \n",
       "6908        US  To call it entry level does not do justice to ...   \n",
       "6385        US  Black cherry juice, anise, thyme and pepper sh...   \n",
       "4642        US  Quite earthy in profile with hints of smoke, p...   \n",
       "6253   Germany  Hints of bramble and earth lend savory nuances...   \n",
       "\n",
       "                                            designation  points  price  \\\n",
       "3200                                       Samora Tinto      85   12.0   \n",
       "6908                                         Unfiltered      91   29.0   \n",
       "6385                                                NaN      87   16.0   \n",
       "4642                                                Dry      87   16.0   \n",
       "6253  Bernkasteler alte Badstube am Doctorberg Kabinett      89   28.0   \n",
       "\n",
       "        province           region_1           region_2         taster_name  \\\n",
       "3200        Tejo                NaN                NaN          Roger Voss   \n",
       "6908      Oregon  Willamette Valley  Willamette Valley        Paul Gregutt   \n",
       "6385  California        Paso Robles      Central Coast       Matt Kettmann   \n",
       "4642    New York       Finger Lakes       Finger Lakes  Anna Lee C. Iijima   \n",
       "6253       Mosel                NaN                NaN  Anna Lee C. Iijima   \n",
       "\n",
       "     taster_twitter_handle                                              title  \\\n",
       "3200            @vossroger    Wines & Winemakers 2012 Samora Tinto Red (Tejo)   \n",
       "6908           @paulgwine   J. Christopher 2012 Unfiltered Pinot Noir (Wil...   \n",
       "6385         @mattkettmann                Maddalena 2012 Merlot (Paso Robles)   \n",
       "4642                   NaN         Billsboro 2010 Dry Riesling (Finger Lakes)   \n",
       "6253                   NaN  Dr. Heidemanns-Bergweiler 2014 Bernkasteler al...   \n",
       "\n",
       "             variety                     winery  \n",
       "3200  Portuguese Red         Wines & Winemakers  \n",
       "6908      Pinot Noir             J. Christopher  \n",
       "6385          Merlot                  Maddalena  \n",
       "4642        Riesling                  Billsboro  \n",
       "6253        Riesling  Dr. Heidemanns-Bergweiler  "
      ]
     },
     "execution_count": 2,
     "metadata": {},
     "output_type": "execute_result"
    }
   ],
   "source": [
    "train = pd.read_csv(\"../data/train/train.csv\") \n",
    "test = pd.read_csv(\"../data/test/test.csv\")\n",
    "train.sample(5)"
   ]
  },
  {
   "cell_type": "code",
   "execution_count": 3,
   "metadata": {},
   "outputs": [
    {
     "name": "stdout",
     "output_type": "stream",
     "text": [
      "There are 9000 rows and 13 columns in the train dataset.\n"
     ]
    }
   ],
   "source": [
    "print(\"There are {} rows and {} columns in the train dataset.\"\n",
    "      .format(train.shape[0], train.shape[1]))"
   ]
  },
  {
   "cell_type": "code",
   "execution_count": 4,
   "metadata": {},
   "outputs": [
    {
     "name": "stdout",
     "output_type": "stream",
     "text": [
      "There are 1000 rows and 13 columns in the test dataset.\n"
     ]
    }
   ],
   "source": [
    "print(\"There are {} rows and {} columns in the test dataset.\"\n",
    "      .format(test.shape[0], test.shape[1]))"
   ]
  },
  {
   "cell_type": "markdown",
   "metadata": {},
   "source": [
    "# Descriptive statistics & information about datasets"
   ]
  },
  {
   "cell_type": "code",
   "execution_count": 5,
   "metadata": {},
   "outputs": [
    {
     "name": "stdout",
     "output_type": "stream",
     "text": [
      "<class 'pandas.core.frame.DataFrame'>\n",
      "RangeIndex: 9000 entries, 0 to 8999\n",
      "Data columns (total 13 columns):\n",
      " #   Column                 Non-Null Count  Dtype  \n",
      "---  ------                 --------------  -----  \n",
      " 0   country                8994 non-null   object \n",
      " 1   description            9000 non-null   object \n",
      " 2   designation            6455 non-null   object \n",
      " 3   points                 9000 non-null   int64  \n",
      " 4   price                  8403 non-null   float64\n",
      " 5   province               8994 non-null   object \n",
      " 6   region_1               7505 non-null   object \n",
      " 7   region_2               3469 non-null   object \n",
      " 8   taster_name            7223 non-null   object \n",
      " 9   taster_twitter_handle  6888 non-null   object \n",
      " 10  title                  9000 non-null   object \n",
      " 11  variety                9000 non-null   object \n",
      " 12  winery                 9000 non-null   object \n",
      "dtypes: float64(1), int64(1), object(11)\n",
      "memory usage: 914.2+ KB\n"
     ]
    }
   ],
   "source": [
    "train.info()"
   ]
  },
  {
   "cell_type": "code",
   "execution_count": 6,
   "metadata": {},
   "outputs": [
    {
     "name": "stdout",
     "output_type": "stream",
     "text": [
      "<class 'pandas.core.frame.DataFrame'>\n",
      "RangeIndex: 1000 entries, 0 to 999\n",
      "Data columns (total 13 columns):\n",
      " #   Column                 Non-Null Count  Dtype  \n",
      "---  ------                 --------------  -----  \n",
      " 0   country                1000 non-null   object \n",
      " 1   description            1000 non-null   object \n",
      " 2   designation            716 non-null    object \n",
      " 3   points                 1000 non-null   int64  \n",
      " 4   price                  920 non-null    float64\n",
      " 5   province               1000 non-null   object \n",
      " 6   region_1               831 non-null    object \n",
      " 7   region_2               384 non-null    object \n",
      " 8   taster_name            792 non-null    object \n",
      " 9   taster_twitter_handle  756 non-null    object \n",
      " 10  title                  1000 non-null   object \n",
      " 11  variety                1000 non-null   object \n",
      " 12  winery                 1000 non-null   object \n",
      "dtypes: float64(1), int64(1), object(11)\n",
      "memory usage: 101.7+ KB\n"
     ]
    }
   ],
   "source": [
    "test.info()"
   ]
  },
  {
   "cell_type": "code",
   "execution_count": 7,
   "metadata": {},
   "outputs": [
    {
     "data": {
      "text/html": [
       "<div>\n",
       "<style scoped>\n",
       "    .dataframe tbody tr th:only-of-type {\n",
       "        vertical-align: middle;\n",
       "    }\n",
       "\n",
       "    .dataframe tbody tr th {\n",
       "        vertical-align: top;\n",
       "    }\n",
       "\n",
       "    .dataframe thead th {\n",
       "        text-align: right;\n",
       "    }\n",
       "</style>\n",
       "<table border=\"1\" class=\"dataframe\">\n",
       "  <thead>\n",
       "    <tr style=\"text-align: right;\">\n",
       "      <th></th>\n",
       "      <th>points</th>\n",
       "      <th>price</th>\n",
       "    </tr>\n",
       "  </thead>\n",
       "  <tbody>\n",
       "    <tr>\n",
       "      <th>count</th>\n",
       "      <td>9000.000000</td>\n",
       "      <td>8403.000000</td>\n",
       "    </tr>\n",
       "    <tr>\n",
       "      <th>mean</th>\n",
       "      <td>88.455222</td>\n",
       "      <td>35.532191</td>\n",
       "    </tr>\n",
       "    <tr>\n",
       "      <th>std</th>\n",
       "      <td>3.025945</td>\n",
       "      <td>40.750683</td>\n",
       "    </tr>\n",
       "    <tr>\n",
       "      <th>min</th>\n",
       "      <td>80.000000</td>\n",
       "      <td>5.000000</td>\n",
       "    </tr>\n",
       "    <tr>\n",
       "      <th>25%</th>\n",
       "      <td>86.000000</td>\n",
       "      <td>17.000000</td>\n",
       "    </tr>\n",
       "    <tr>\n",
       "      <th>50%</th>\n",
       "      <td>88.000000</td>\n",
       "      <td>25.000000</td>\n",
       "    </tr>\n",
       "    <tr>\n",
       "      <th>75%</th>\n",
       "      <td>91.000000</td>\n",
       "      <td>42.000000</td>\n",
       "    </tr>\n",
       "    <tr>\n",
       "      <th>max</th>\n",
       "      <td>100.000000</td>\n",
       "      <td>1300.000000</td>\n",
       "    </tr>\n",
       "  </tbody>\n",
       "</table>\n",
       "</div>"
      ],
      "text/plain": [
       "            points        price\n",
       "count  9000.000000  8403.000000\n",
       "mean     88.455222    35.532191\n",
       "std       3.025945    40.750683\n",
       "min      80.000000     5.000000\n",
       "25%      86.000000    17.000000\n",
       "50%      88.000000    25.000000\n",
       "75%      91.000000    42.000000\n",
       "max     100.000000  1300.000000"
      ]
     },
     "execution_count": 7,
     "metadata": {},
     "output_type": "execute_result"
    }
   ],
   "source": [
    "train.describe()"
   ]
  },
  {
   "cell_type": "markdown",
   "metadata": {},
   "source": [
    "Majority of the features are categorical and we have some missing data in the both datasets. Machine learning models can only work with numerical and non-empty values. Thus we are going to develop strategies in Feature Engineering to impute the missing data and transform categorical values into the numeric values."
   ]
  },
  {
   "cell_type": "code",
   "execution_count": 8,
   "metadata": {},
   "outputs": [
    {
     "data": {
      "text/html": [
       "<div>\n",
       "<style scoped>\n",
       "    .dataframe tbody tr th:only-of-type {\n",
       "        vertical-align: middle;\n",
       "    }\n",
       "\n",
       "    .dataframe tbody tr th {\n",
       "        vertical-align: top;\n",
       "    }\n",
       "\n",
       "    .dataframe thead th {\n",
       "        text-align: right;\n",
       "    }\n",
       "</style>\n",
       "<table border=\"1\" class=\"dataframe\">\n",
       "  <thead>\n",
       "    <tr style=\"text-align: right;\">\n",
       "      <th></th>\n",
       "      <th>points</th>\n",
       "      <th>price</th>\n",
       "    </tr>\n",
       "  </thead>\n",
       "  <tbody>\n",
       "    <tr>\n",
       "      <th>count</th>\n",
       "      <td>1000.000000</td>\n",
       "      <td>920.000000</td>\n",
       "    </tr>\n",
       "    <tr>\n",
       "      <th>mean</th>\n",
       "      <td>88.503000</td>\n",
       "      <td>34.675000</td>\n",
       "    </tr>\n",
       "    <tr>\n",
       "      <th>std</th>\n",
       "      <td>3.067475</td>\n",
       "      <td>42.240874</td>\n",
       "    </tr>\n",
       "    <tr>\n",
       "      <th>min</th>\n",
       "      <td>80.000000</td>\n",
       "      <td>7.000000</td>\n",
       "    </tr>\n",
       "    <tr>\n",
       "      <th>25%</th>\n",
       "      <td>86.000000</td>\n",
       "      <td>17.000000</td>\n",
       "    </tr>\n",
       "    <tr>\n",
       "      <th>50%</th>\n",
       "      <td>88.000000</td>\n",
       "      <td>25.000000</td>\n",
       "    </tr>\n",
       "    <tr>\n",
       "      <th>75%</th>\n",
       "      <td>91.000000</td>\n",
       "      <td>41.000000</td>\n",
       "    </tr>\n",
       "    <tr>\n",
       "      <th>max</th>\n",
       "      <td>97.000000</td>\n",
       "      <td>1000.000000</td>\n",
       "    </tr>\n",
       "  </tbody>\n",
       "</table>\n",
       "</div>"
      ],
      "text/plain": [
       "            points        price\n",
       "count  1000.000000   920.000000\n",
       "mean     88.503000    34.675000\n",
       "std       3.067475    42.240874\n",
       "min      80.000000     7.000000\n",
       "25%      86.000000    17.000000\n",
       "50%      88.000000    25.000000\n",
       "75%      91.000000    41.000000\n",
       "max      97.000000  1000.000000"
      ]
     },
     "execution_count": 8,
     "metadata": {},
     "output_type": "execute_result"
    }
   ],
   "source": [
    "test.describe()"
   ]
  }
 ],
 "metadata": {
  "kernelspec": {
   "display_name": ".venv",
   "language": "python",
   "name": "python3"
  },
  "language_info": {
   "codemirror_mode": {
    "name": "ipython",
    "version": 3
   },
   "file_extension": ".py",
   "mimetype": "text/x-python",
   "name": "python",
   "nbconvert_exporter": "python",
   "pygments_lexer": "ipython3",
   "version": "3.12.2"
  }
 },
 "nbformat": 4,
 "nbformat_minor": 2
}
