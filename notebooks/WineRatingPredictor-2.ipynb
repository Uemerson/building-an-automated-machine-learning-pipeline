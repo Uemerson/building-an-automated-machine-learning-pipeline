{
 "cells": [
  {
   "cell_type": "markdown",
   "metadata": {},
   "source": [
    "# Set Metric-Establish Baseline-Model Selection-Hyperparameter Tuning"
   ]
  },
  {
   "cell_type": "markdown",
   "metadata": {},
   "source": [
    "This notebook will perform steps 4 and 5:\n",
    "\n",
    "4. Set Evaluation Metric & Establish Baseline\n",
    "5. Model Selection & Tune Hyperparameters of the Model"
   ]
  },
  {
   "cell_type": "markdown",
   "metadata": {},
   "source": [
    "## Imports"
   ]
  },
  {
   "cell_type": "code",
   "execution_count": 1,
   "metadata": {},
   "outputs": [],
   "source": [
    "# manipulation libraries\n",
    "import pandas as pd\n",
    "import numpy as np\n",
    "\n",
    "# visualization libraries\n",
    "import matplotlib.pyplot as plt\n",
    "import seaborn as sns\n",
    "\n",
    "%matplotlib inline\n",
    "# to display visuals in the notebook\n",
    "\n",
    "%config InlineBackend.figure_format='retina'\n",
    "#to enable high resolution plots\n",
    "\n",
    "# normalization and random-search and error metric\n",
    "from sklearn.model_selection import RandomizedSearchCV\n",
    "from sklearn.preprocessing import StandardScaler\n",
    "from sklearn.metrics import mean_squared_error\n",
    "\n",
    "# potential machine Learning Models\n",
    "from sklearn.linear_model import LinearRegression\n",
    "from sklearn.neighbors import KNeighborsRegressor\n",
    "from sklearn.svm import SVR\n",
    "from sklearn.ensemble import RandomForestRegressor\n",
    "from sklearn.ensemble import ExtraTreesRegressor\n",
    "import lightgbm as lgb\n",
    "\n",
    "# to save machine Learning Models\n",
    "import pickle"
   ]
  },
  {
   "cell_type": "markdown",
   "metadata": {},
   "source": [
    "## Auxiliary Functions"
   ]
  },
  {
   "cell_type": "code",
   "execution_count": 2,
   "metadata": {},
   "outputs": [],
   "source": [
    "# functions to use in the notebook\n",
    "def fit_evaluate_model(model, X_train, y_train, \n",
    "                       X_valid, y_valid):\n",
    "    # function to train a given model\n",
    "    # return mean squared error of the\n",
    "    # actuals and predictions\n",
    "    model.fit(X_train, y_train)\n",
    "    y_predicted = model.predict(X_valid)\n",
    "    return mean_squared_error(y_valid, y_predicted)\n",
    "\n",
    "def convert_features_to_array(features):\n",
    "    # function to convert feature df\n",
    "    # to an array\n",
    "    num_rows = len(features)\n",
    "    num_cols = len(features.columns)\n",
    "    \n",
    "    features_array = (np\n",
    "                      .array(features)\n",
    "                      .reshape((num_rows, \n",
    "                                num_cols)))\n",
    "\n",
    "    return features_array\n",
    "\n",
    "def convert_target_to_array(target):\n",
    "    # function to convert target df\n",
    "    # to an array\n",
    "    target_array = (np\n",
    "                    .array(target)\n",
    "                    .reshape((-1, )))\n",
    "    return target_array"
   ]
  },
  {
   "cell_type": "markdown",
   "metadata": {},
   "source": [
    "## Load data and convert to array:"
   ]
  },
  {
   "cell_type": "code",
   "execution_count": 3,
   "metadata": {},
   "outputs": [],
   "source": [
    "X_train = pd.read_csv(\"../transformed/X_train.csv\")\n",
    "y_train = pd.read_csv(\"../transformed/y_train.csv\")\n",
    "\n",
    "X_valid = pd.read_csv(\"../transformed/X_valid.csv\")\n",
    "y_valid = pd.read_csv(\"../transformed/y_valid.csv\")"
   ]
  },
  {
   "cell_type": "code",
   "execution_count": 4,
   "metadata": {},
   "outputs": [],
   "source": [
    "y_train_array = convert_target_to_array(y_train)\n",
    "y_valid_array = convert_target_to_array(y_valid)\n",
    "\n",
    "X_train_array = convert_features_to_array(X_train)\n",
    "X_valid_array = convert_features_to_array(X_valid)"
   ]
  }
 ],
 "metadata": {
  "kernelspec": {
   "display_name": ".venv",
   "language": "python",
   "name": "python3"
  },
  "language_info": {
   "codemirror_mode": {
    "name": "ipython",
    "version": 3
   },
   "file_extension": ".py",
   "mimetype": "text/x-python",
   "name": "python",
   "nbconvert_exporter": "python",
   "pygments_lexer": "ipython3",
   "version": "3.12.2"
  }
 },
 "nbformat": 4,
 "nbformat_minor": 2
}
